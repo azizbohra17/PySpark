{
 "cells": [
  {
   "cell_type": "code",
   "execution_count": 1,
   "id": "a175d78a-0a4c-49b0-9c5f-bfe2876793dc",
   "metadata": {},
   "outputs": [],
   "source": [
    "import findspark\n",
    "findspark.init()"
   ]
  },
  {
   "cell_type": "code",
   "execution_count": 2,
   "id": "fdd75d3a-2de0-4318-b8eb-cd98ddc08c08",
   "metadata": {},
   "outputs": [],
   "source": [
    "from pyspark.sql import SparkSession"
   ]
  },
  {
   "cell_type": "code",
   "execution_count": 3,
   "id": "efa84818-6a85-40e1-86ca-82bc946f92f3",
   "metadata": {},
   "outputs": [
    {
     "name": "stderr",
     "output_type": "stream",
     "text": [
      "23/06/06 21:40:41 WARN SparkSession: Using an existing Spark session; only runtime SQL configurations will take effect.\n"
     ]
    }
   ],
   "source": [
    "spark = SparkSession.builder.appName('App').getOrCreate()"
   ]
  },
  {
   "cell_type": "code",
   "execution_count": 4,
   "id": "e0e7a7a8-6cd0-412d-8870-3a43667307b4",
   "metadata": {},
   "outputs": [
    {
     "name": "stdout",
     "output_type": "stream",
     "text": [
      "+---------------+-----------+----------+-----------+----------+-------+\n",
      "|_corrupt_record|petalLength|petalWidth|sepalLength|sepalWidth|species|\n",
      "+---------------+-----------+----------+-----------+----------+-------+\n",
      "|              [|       null|      null|       null|      null|   null|\n",
      "|           null|        1.4|       0.2|        5.1|       3.5| setosa|\n",
      "|           null|        1.4|       0.2|        4.9|       3.0| setosa|\n",
      "|           null|        1.3|       0.2|        4.7|       3.2| setosa|\n",
      "|           null|        1.5|       0.2|        4.6|       3.1| setosa|\n",
      "|           null|        1.4|       0.2|        5.0|       3.6| setosa|\n",
      "|           null|        1.7|       0.4|        5.4|       3.9| setosa|\n",
      "|           null|        1.4|       0.3|        4.6|       3.4| setosa|\n",
      "|           null|        1.5|       0.2|        5.0|       3.4| setosa|\n",
      "|           null|        1.4|       0.2|        4.4|       2.9| setosa|\n",
      "|           null|        1.5|       0.1|        4.9|       3.1| setosa|\n",
      "|           null|        1.5|       0.2|        5.4|       3.7| setosa|\n",
      "|           null|        1.6|       0.2|        4.8|       3.4| setosa|\n",
      "|           null|        1.4|       0.1|        4.8|       3.0| setosa|\n",
      "|           null|        1.1|       0.1|        4.3|       3.0| setosa|\n",
      "|           null|        1.2|       0.2|        5.8|       4.0| setosa|\n",
      "|           null|        1.5|       0.4|        5.7|       4.4| setosa|\n",
      "|           null|        1.3|       0.4|        5.4|       3.9| setosa|\n",
      "|           null|        1.4|       0.3|        5.1|       3.5| setosa|\n",
      "|           null|        1.7|       0.3|        5.7|       3.8| setosa|\n",
      "+---------------+-----------+----------+-----------+----------+-------+\n",
      "only showing top 20 rows\n",
      "\n"
     ]
    }
   ],
   "source": [
    "df = spark.read.json('iris.json')\n",
    "df.show()"
   ]
  },
  {
   "cell_type": "code",
   "execution_count": 5,
   "id": "78dc56cd-a72e-46bf-8ae6-5f44fd05d861",
   "metadata": {},
   "outputs": [
    {
     "name": "stdout",
     "output_type": "stream",
     "text": [
      "root\n",
      " |-- _corrupt_record: string (nullable = true)\n",
      " |-- petalLength: double (nullable = true)\n",
      " |-- petalWidth: double (nullable = true)\n",
      " |-- sepalLength: double (nullable = true)\n",
      " |-- sepalWidth: double (nullable = true)\n",
      " |-- species: string (nullable = true)\n",
      "\n"
     ]
    }
   ],
   "source": [
    "df.printSchema()"
   ]
  },
  {
   "cell_type": "code",
   "execution_count": 6,
   "id": "6268755f-14be-49b8-a52c-ff1bc516790b",
   "metadata": {},
   "outputs": [
    {
     "data": {
      "text/plain": [
       "['_corrupt_record',\n",
       " 'petalLength',\n",
       " 'petalWidth',\n",
       " 'sepalLength',\n",
       " 'sepalWidth',\n",
       " 'species']"
      ]
     },
     "execution_count": 6,
     "metadata": {},
     "output_type": "execute_result"
    }
   ],
   "source": [
    "df.columns"
   ]
  },
  {
   "cell_type": "code",
   "execution_count": 7,
   "id": "72855339-f924-4d02-b88e-f95289d7d57a",
   "metadata": {},
   "outputs": [
    {
     "name": "stderr",
     "output_type": "stream",
     "text": [
      "23/06/06 21:52:23 WARN package: Truncated the string representation of a plan since it was too large. This behavior can be adjusted by setting 'spark.sql.debug.maxToStringFields'.\n"
     ]
    },
    {
     "name": "stdout",
     "output_type": "stream",
     "text": [
      "+-------+---------------+------------------+------------------+------------------+-------------------+---------+\n",
      "|summary|_corrupt_record|       petalLength|        petalWidth|       sepalLength|         sepalWidth|  species|\n",
      "+-------+---------------+------------------+------------------+------------------+-------------------+---------+\n",
      "|  count|              2|               150|               150|               150|                150|      150|\n",
      "|   mean|           null|3.7580000000000027| 1.199333333333334| 5.843333333333335|  3.057333333333334|     null|\n",
      "| stddev|           null|1.7652982332594662|0.7622376689603467|0.8280661279778637|0.43586628493669793|     null|\n",
      "|    min|              [|               1.0|               0.1|               4.3|                2.0|   setosa|\n",
      "|    max|              ]|               6.9|               2.5|               7.9|                4.4|virginica|\n",
      "+-------+---------------+------------------+------------------+------------------+-------------------+---------+\n",
      "\n"
     ]
    }
   ],
   "source": [
    "df.describe().show()"
   ]
  },
  {
   "cell_type": "code",
   "execution_count": 8,
   "id": "69300518-d56c-4e3a-b73a-87f48dc13419",
   "metadata": {},
   "outputs": [],
   "source": [
    "from pyspark.sql.types import StructField, StringType, IntegerType, StructType"
   ]
  },
  {
   "cell_type": "code",
   "execution_count": 9,
   "id": "47ea0718-087d-4920-9ec2-0311b50270ce",
   "metadata": {},
   "outputs": [],
   "source": [
    "data_schema = [StructField('petalLength', IntegerType(),True),\n",
    "               StructField('petalWidth', IntegerType(),True),\n",
    "               StructField('sepalLength', IntegerType(),True),\n",
    "               StructField('sepalWidth', IntegerType(),True),\n",
    "               StructField('species', StringType(),True),]"
   ]
  },
  {
   "cell_type": "code",
   "execution_count": 10,
   "id": "3af07a6b-a5f0-4758-b3f9-3cf801c6da4d",
   "metadata": {},
   "outputs": [],
   "source": [
    "final_struct = StructType(fields = data_schema)"
   ]
  },
  {
   "cell_type": "code",
   "execution_count": 11,
   "id": "41109cc2-d146-45de-80e7-c8681fabf942",
   "metadata": {},
   "outputs": [
    {
     "name": "stdout",
     "output_type": "stream",
     "text": [
      "root\n",
      " |-- petalLength: integer (nullable = true)\n",
      " |-- petalWidth: integer (nullable = true)\n",
      " |-- sepalLength: integer (nullable = true)\n",
      " |-- sepalWidth: integer (nullable = true)\n",
      " |-- species: string (nullable = true)\n",
      "\n"
     ]
    }
   ],
   "source": [
    "new_df = spark.read.json('iris.json', schema=final_struct)\n",
    "new_df.printSchema()"
   ]
  },
  {
   "cell_type": "code",
   "execution_count": 12,
   "id": "e3e05ceb-d847-48b6-99b8-57e37d0dbf57",
   "metadata": {},
   "outputs": [
    {
     "name": "stdout",
     "output_type": "stream",
     "text": [
      "+-------+\n",
      "|species|\n",
      "+-------+\n",
      "|   null|\n",
      "| setosa|\n",
      "| setosa|\n",
      "| setosa|\n",
      "| setosa|\n",
      "| setosa|\n",
      "| setosa|\n",
      "| setosa|\n",
      "| setosa|\n",
      "| setosa|\n",
      "| setosa|\n",
      "| setosa|\n",
      "| setosa|\n",
      "| setosa|\n",
      "| setosa|\n",
      "| setosa|\n",
      "| setosa|\n",
      "| setosa|\n",
      "| setosa|\n",
      "| setosa|\n",
      "+-------+\n",
      "only showing top 20 rows\n",
      "\n"
     ]
    }
   ],
   "source": [
    "new_df.select('species').show()"
   ]
  },
  {
   "cell_type": "code",
   "execution_count": 13,
   "id": "dab536eb-7213-450b-b1b9-39cf60b7a55a",
   "metadata": {},
   "outputs": [
    {
     "name": "stdout",
     "output_type": "stream",
     "text": [
      "+---------------+-----------+----------+-----------+----------+-------+-----------------+\n",
      "|_corrupt_record|petalLength|petalWidth|sepalLength|sepalWidth|species|doubleSepalLength|\n",
      "+---------------+-----------+----------+-----------+----------+-------+-----------------+\n",
      "|              [|       null|      null|       null|      null|   null|             null|\n",
      "|           null|        1.4|       0.2|        5.1|       3.5| setosa|             10.2|\n",
      "|           null|        1.4|       0.2|        4.9|       3.0| setosa|              9.8|\n",
      "|           null|        1.3|       0.2|        4.7|       3.2| setosa|              9.4|\n",
      "|           null|        1.5|       0.2|        4.6|       3.1| setosa|              9.2|\n",
      "|           null|        1.4|       0.2|        5.0|       3.6| setosa|             10.0|\n",
      "|           null|        1.7|       0.4|        5.4|       3.9| setosa|             10.8|\n",
      "|           null|        1.4|       0.3|        4.6|       3.4| setosa|              9.2|\n",
      "|           null|        1.5|       0.2|        5.0|       3.4| setosa|             10.0|\n",
      "|           null|        1.4|       0.2|        4.4|       2.9| setosa|              8.8|\n",
      "|           null|        1.5|       0.1|        4.9|       3.1| setosa|              9.8|\n",
      "|           null|        1.5|       0.2|        5.4|       3.7| setosa|             10.8|\n",
      "|           null|        1.6|       0.2|        4.8|       3.4| setosa|              9.6|\n",
      "|           null|        1.4|       0.1|        4.8|       3.0| setosa|              9.6|\n",
      "|           null|        1.1|       0.1|        4.3|       3.0| setosa|              8.6|\n",
      "|           null|        1.2|       0.2|        5.8|       4.0| setosa|             11.6|\n",
      "|           null|        1.5|       0.4|        5.7|       4.4| setosa|             11.4|\n",
      "|           null|        1.3|       0.4|        5.4|       3.9| setosa|             10.8|\n",
      "|           null|        1.4|       0.3|        5.1|       3.5| setosa|             10.2|\n",
      "|           null|        1.7|       0.3|        5.7|       3.8| setosa|             11.4|\n",
      "+---------------+-----------+----------+-----------+----------+-------+-----------------+\n",
      "only showing top 20 rows\n",
      "\n"
     ]
    }
   ],
   "source": [
    "df.withColumn('doubleSepalLength', df['sepalLength']*2).show()"
   ]
  },
  {
   "cell_type": "code",
   "execution_count": 14,
   "id": "5c34f6ff-9d1f-49c3-bb51-b2ba4f349ad3",
   "metadata": {},
   "outputs": [
    {
     "name": "stdout",
     "output_type": "stream",
     "text": [
      "+---------------+-----------+----------+-----------+----------+-------+\n",
      "|_corrupt_record|petalLength|petalWidth|sepalLength|sepalWidth|species|\n",
      "+---------------+-----------+----------+-----------+----------+-------+\n",
      "|           null|        1.4|       0.2|        5.1|       3.5| setosa|\n",
      "|           null|        1.7|       0.4|        5.4|       3.9| setosa|\n",
      "|           null|        1.5|       0.2|        5.4|       3.7| setosa|\n",
      "|           null|        1.2|       0.2|        5.8|       4.0| setosa|\n",
      "|           null|        1.5|       0.4|        5.7|       4.4| setosa|\n",
      "|           null|        1.3|       0.4|        5.4|       3.9| setosa|\n",
      "|           null|        1.4|       0.3|        5.1|       3.5| setosa|\n",
      "|           null|        1.7|       0.3|        5.7|       3.8| setosa|\n",
      "|           null|        1.5|       0.3|        5.1|       3.8| setosa|\n",
      "|           null|        1.7|       0.2|        5.4|       3.4| setosa|\n",
      "|           null|        1.5|       0.4|        5.1|       3.7| setosa|\n",
      "|           null|        1.7|       0.5|        5.1|       3.3| setosa|\n",
      "|           null|        1.5|       0.2|        5.2|       3.5| setosa|\n",
      "|           null|        1.4|       0.2|        5.2|       3.4| setosa|\n",
      "|           null|        1.5|       0.4|        5.4|       3.4| setosa|\n",
      "|           null|        1.5|       0.1|        5.2|       4.1| setosa|\n",
      "|           null|        1.4|       0.2|        5.5|       4.2| setosa|\n",
      "|           null|        1.3|       0.2|        5.5|       3.5| setosa|\n",
      "|           null|        1.5|       0.2|        5.1|       3.4| setosa|\n",
      "|           null|        1.9|       0.4|        5.1|       3.8| setosa|\n",
      "+---------------+-----------+----------+-----------+----------+-------+\n",
      "only showing top 20 rows\n",
      "\n"
     ]
    }
   ],
   "source": [
    "df.createOrReplaceTempView('iris')\n",
    "\n",
    "sepal_greater_5 = spark.sql(\"SELECT * from iris WHERE sepalLength > 5\")\n",
    "sepal_greater_5.show()"
   ]
  },
  {
   "cell_type": "code",
   "execution_count": 22,
   "id": "481bf99d-6ad6-48bf-922c-742163e03609",
   "metadata": {},
   "outputs": [
    {
     "name": "stdout",
     "output_type": "stream",
     "text": [
      "+-----------+-----------+\n",
      "|sepalLength|petalLength|\n",
      "+-----------+-----------+\n",
      "|        6.0|        5.1|\n",
      "|        6.3|        6.0|\n",
      "|        5.8|        5.1|\n",
      "|        7.1|        5.9|\n",
      "|        6.3|        5.6|\n",
      "|        6.5|        5.8|\n",
      "|        7.6|        6.6|\n",
      "|        7.3|        6.3|\n",
      "|        6.7|        5.8|\n",
      "|        7.2|        6.1|\n",
      "|        6.5|        5.1|\n",
      "|        6.4|        5.3|\n",
      "|        6.8|        5.5|\n",
      "|        5.8|        5.1|\n",
      "|        6.4|        5.3|\n",
      "|        6.5|        5.5|\n",
      "|        7.7|        6.7|\n",
      "|        7.7|        6.9|\n",
      "|        6.9|        5.7|\n",
      "|        7.7|        6.7|\n",
      "+-----------+-----------+\n",
      "only showing top 20 rows\n",
      "\n"
     ]
    }
   ],
   "source": [
    "df.filter(\"species == 'versicolor'\" and \"petalLength > 5\").select(['sepalLength', 'petalLength']).show()"
   ]
  },
  {
   "cell_type": "code",
   "execution_count": 31,
   "id": "b5b8a65e-8cc4-4962-9a27-3b34de007136",
   "metadata": {},
   "outputs": [
    {
     "name": "stdout",
     "output_type": "stream",
     "text": [
      "+---------------+-----------+----------+-----------+----------+-------+\n",
      "|_corrupt_record|petalLength|petalWidth|sepalLength|sepalWidth|species|\n",
      "+---------------+-----------+----------+-----------+----------+-------+\n",
      "|           null|        1.4|       0.2|        5.1|       3.5| setosa|\n",
      "|           null|        1.4|       0.2|        4.9|       3.0| setosa|\n",
      "|           null|        1.3|       0.2|        4.7|       3.2| setosa|\n",
      "|           null|        1.5|       0.2|        4.6|       3.1| setosa|\n",
      "|           null|        1.4|       0.2|        5.0|       3.6| setosa|\n",
      "|           null|        1.7|       0.4|        5.4|       3.9| setosa|\n",
      "|           null|        1.4|       0.3|        4.6|       3.4| setosa|\n",
      "|           null|        1.5|       0.2|        5.0|       3.4| setosa|\n",
      "|           null|        1.4|       0.2|        4.4|       2.9| setosa|\n",
      "|           null|        1.5|       0.1|        4.9|       3.1| setosa|\n",
      "|           null|        1.5|       0.2|        5.4|       3.7| setosa|\n",
      "|           null|        1.6|       0.2|        4.8|       3.4| setosa|\n",
      "|           null|        1.4|       0.1|        4.8|       3.0| setosa|\n",
      "|           null|        1.1|       0.1|        4.3|       3.0| setosa|\n",
      "|           null|        1.2|       0.2|        5.8|       4.0| setosa|\n",
      "|           null|        1.5|       0.4|        5.7|       4.4| setosa|\n",
      "|           null|        1.3|       0.4|        5.4|       3.9| setosa|\n",
      "|           null|        1.4|       0.3|        5.1|       3.5| setosa|\n",
      "|           null|        1.7|       0.3|        5.7|       3.8| setosa|\n",
      "|           null|        1.5|       0.3|        5.1|       3.8| setosa|\n",
      "+---------------+-----------+----------+-----------+----------+-------+\n",
      "only showing top 20 rows\n",
      "\n"
     ]
    }
   ],
   "source": [
    "df.filter((df['sepalLength'] < 10) & (df['petalLength'] < 10)).show()"
   ]
  },
  {
   "cell_type": "code",
   "execution_count": 41,
   "id": "ec588f6f-ebb6-428a-ac55-0e35d1939390",
   "metadata": {},
   "outputs": [
    {
     "data": {
      "text/plain": [
       "Row(_corrupt_record=None, petalLength=1.4, petalWidth=0.2, sepalLength=4.9, sepalWidth=3.0, species='setosa')"
      ]
     },
     "execution_count": 41,
     "metadata": {},
     "output_type": "execute_result"
    }
   ],
   "source": [
    "df.head(3)[2]"
   ]
  },
  {
   "cell_type": "code",
   "execution_count": null,
   "id": "ce374a74-a55c-4cf2-a5e4-5c7bdf8dbadc",
   "metadata": {},
   "outputs": [],
   "source": []
  }
 ],
 "metadata": {
  "kernelspec": {
   "display_name": "Python 3 (ipykernel)",
   "language": "python",
   "name": "python3"
  },
  "language_info": {
   "codemirror_mode": {
    "name": "ipython",
    "version": 3
   },
   "file_extension": ".py",
   "mimetype": "text/x-python",
   "name": "python",
   "nbconvert_exporter": "python",
   "pygments_lexer": "ipython3",
   "version": "3.8.16"
  }
 },
 "nbformat": 4,
 "nbformat_minor": 5
}
