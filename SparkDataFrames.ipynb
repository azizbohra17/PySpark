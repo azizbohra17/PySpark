{
 "cells": [
  {
   "cell_type": "code",
   "execution_count": 1,
   "id": "a175d78a-0a4c-49b0-9c5f-bfe2876793dc",
   "metadata": {},
   "outputs": [],
   "source": [
    "import findspark\n",
    "findspark.init()"
   ]
  },
  {
   "cell_type": "code",
   "execution_count": 2,
   "id": "fdd75d3a-2de0-4318-b8eb-cd98ddc08c08",
   "metadata": {},
   "outputs": [],
   "source": [
    "from pyspark.sql import SparkSession"
   ]
  },
  {
   "cell_type": "code",
   "execution_count": 3,
   "id": "efa84818-6a85-40e1-86ca-82bc946f92f3",
   "metadata": {},
   "outputs": [
    {
     "name": "stderr",
     "output_type": "stream",
     "text": [
      "23/06/06 21:40:41 WARN SparkSession: Using an existing Spark session; only runtime SQL configurations will take effect.\n"
     ]
    }
   ],
   "source": [
    "spark = SparkSession.builder.appName('App').getOrCreate()"
   ]
  },
  {
   "cell_type": "code",
   "execution_count": 4,
   "id": "e0e7a7a8-6cd0-412d-8870-3a43667307b4",
   "metadata": {},
   "outputs": [
    {
     "name": "stdout",
     "output_type": "stream",
     "text": [
      "+---------------+-----------+----------+-----------+----------+-------+\n",
      "|_corrupt_record|petalLength|petalWidth|sepalLength|sepalWidth|species|\n",
      "+---------------+-----------+----------+-----------+----------+-------+\n",
      "|              [|       null|      null|       null|      null|   null|\n",
      "|           null|        1.4|       0.2|        5.1|       3.5| setosa|\n",
      "|           null|        1.4|       0.2|        4.9|       3.0| setosa|\n",
      "|           null|        1.3|       0.2|        4.7|       3.2| setosa|\n",
      "|           null|        1.5|       0.2|        4.6|       3.1| setosa|\n",
      "|           null|        1.4|       0.2|        5.0|       3.6| setosa|\n",
      "|           null|        1.7|       0.4|        5.4|       3.9| setosa|\n",
      "|           null|        1.4|       0.3|        4.6|       3.4| setosa|\n",
      "|           null|        1.5|       0.2|        5.0|       3.4| setosa|\n",
      "|           null|        1.4|       0.2|        4.4|       2.9| setosa|\n",
      "|           null|        1.5|       0.1|        4.9|       3.1| setosa|\n",
      "|           null|        1.5|       0.2|        5.4|       3.7| setosa|\n",
      "|           null|        1.6|       0.2|        4.8|       3.4| setosa|\n",
      "|           null|        1.4|       0.1|        4.8|       3.0| setosa|\n",
      "|           null|        1.1|       0.1|        4.3|       3.0| setosa|\n",
      "|           null|        1.2|       0.2|        5.8|       4.0| setosa|\n",
      "|           null|        1.5|       0.4|        5.7|       4.4| setosa|\n",
      "|           null|        1.3|       0.4|        5.4|       3.9| setosa|\n",
      "|           null|        1.4|       0.3|        5.1|       3.5| setosa|\n",
      "|           null|        1.7|       0.3|        5.7|       3.8| setosa|\n",
      "+---------------+-----------+----------+-----------+----------+-------+\n",
      "only showing top 20 rows\n",
      "\n"
     ]
    }
   ],
   "source": [
    "df = spark.read.json('iris.json')\n",
    "df.show()"
   ]
  },
  {
   "cell_type": "code",
   "execution_count": 5,
   "id": "78dc56cd-a72e-46bf-8ae6-5f44fd05d861",
   "metadata": {},
   "outputs": [
    {
     "name": "stdout",
     "output_type": "stream",
     "text": [
      "root\n",
      " |-- _corrupt_record: string (nullable = true)\n",
      " |-- petalLength: double (nullable = true)\n",
      " |-- petalWidth: double (nullable = true)\n",
      " |-- sepalLength: double (nullable = true)\n",
      " |-- sepalWidth: double (nullable = true)\n",
      " |-- species: string (nullable = true)\n",
      "\n"
     ]
    }
   ],
   "source": [
    "df.printSchema()"
   ]
  },
  {
   "cell_type": "code",
   "execution_count": 6,
   "id": "6268755f-14be-49b8-a52c-ff1bc516790b",
   "metadata": {},
   "outputs": [
    {
     "data": {
      "text/plain": [
       "['_corrupt_record',\n",
       " 'petalLength',\n",
       " 'petalWidth',\n",
       " 'sepalLength',\n",
       " 'sepalWidth',\n",
       " 'species']"
      ]
     },
     "execution_count": 6,
     "metadata": {},
     "output_type": "execute_result"
    }
   ],
   "source": [
    "df.columns"
   ]
  },
  {
   "cell_type": "code",
   "execution_count": 7,
   "id": "72855339-f924-4d02-b88e-f95289d7d57a",
   "metadata": {},
   "outputs": [
    {
     "name": "stderr",
     "output_type": "stream",
     "text": [
      "23/06/06 21:52:23 WARN package: Truncated the string representation of a plan since it was too large. This behavior can be adjusted by setting 'spark.sql.debug.maxToStringFields'.\n"
     ]
    },
    {
     "name": "stdout",
     "output_type": "stream",
     "text": [
      "+-------+---------------+------------------+------------------+------------------+-------------------+---------+\n",
      "|summary|_corrupt_record|       petalLength|        petalWidth|       sepalLength|         sepalWidth|  species|\n",
      "+-------+---------------+------------------+------------------+------------------+-------------------+---------+\n",
      "|  count|              2|               150|               150|               150|                150|      150|\n",
      "|   mean|           null|3.7580000000000027| 1.199333333333334| 5.843333333333335|  3.057333333333334|     null|\n",
      "| stddev|           null|1.7652982332594662|0.7622376689603467|0.8280661279778637|0.43586628493669793|     null|\n",
      "|    min|              [|               1.0|               0.1|               4.3|                2.0|   setosa|\n",
      "|    max|              ]|               6.9|               2.5|               7.9|                4.4|virginica|\n",
      "+-------+---------------+------------------+------------------+------------------+-------------------+---------+\n",
      "\n"
     ]
    }
   ],
   "source": [
    "df.describe().show()"
   ]
  },
  {
   "cell_type": "code",
   "execution_count": 8,
   "id": "69300518-d56c-4e3a-b73a-87f48dc13419",
   "metadata": {},
   "outputs": [],
   "source": [
    "from pyspark.sql.types import StructField, StringType, IntegerType, StructType"
   ]
  },
  {
   "cell_type": "code",
   "execution_count": 9,
   "id": "47ea0718-087d-4920-9ec2-0311b50270ce",
   "metadata": {},
   "outputs": [],
   "source": [
    "data_schema = [StructField('petalLength', IntegerType(),True),\n",
    "               StructField('petalWidth', IntegerType(),True),\n",
    "               StructField('sepalLength', IntegerType(),True),\n",
    "               StructField('sepalWidth', IntegerType(),True),\n",
    "               StructField('species', StringType(),True),]"
   ]
  },
  {
   "cell_type": "code",
   "execution_count": 10,
   "id": "3af07a6b-a5f0-4758-b3f9-3cf801c6da4d",
   "metadata": {},
   "outputs": [],
   "source": [
    "final_struct = StructType(fields = data_schema)"
   ]
  },
  {
   "cell_type": "code",
   "execution_count": 11,
   "id": "41109cc2-d146-45de-80e7-c8681fabf942",
   "metadata": {},
   "outputs": [
    {
     "name": "stdout",
     "output_type": "stream",
     "text": [
      "root\n",
      " |-- petalLength: integer (nullable = true)\n",
      " |-- petalWidth: integer (nullable = true)\n",
      " |-- sepalLength: integer (nullable = true)\n",
      " |-- sepalWidth: integer (nullable = true)\n",
      " |-- species: string (nullable = true)\n",
      "\n"
     ]
    }
   ],
   "source": [
    "new_df = spark.read.json('iris.json', schema=final_struct)\n",
    "new_df.printSchema()"
   ]
  },
  {
   "cell_type": "code",
   "execution_count": 12,
   "id": "e3e05ceb-d847-48b6-99b8-57e37d0dbf57",
   "metadata": {},
   "outputs": [
    {
     "name": "stdout",
     "output_type": "stream",
     "text": [
      "+-------+\n",
      "|species|\n",
      "+-------+\n",
      "|   null|\n",
      "| setosa|\n",
      "| setosa|\n",
      "| setosa|\n",
      "| setosa|\n",
      "| setosa|\n",
      "| setosa|\n",
      "| setosa|\n",
      "| setosa|\n",
      "| setosa|\n",
      "| setosa|\n",
      "| setosa|\n",
      "| setosa|\n",
      "| setosa|\n",
      "| setosa|\n",
      "| setosa|\n",
      "| setosa|\n",
      "| setosa|\n",
      "| setosa|\n",
      "| setosa|\n",
      "+-------+\n",
      "only showing top 20 rows\n",
      "\n"
     ]
    }
   ],
   "source": [
    "new_df.select('species').show()"
   ]
  },
  {
   "cell_type": "code",
   "execution_count": 13,
   "id": "dab536eb-7213-450b-b1b9-39cf60b7a55a",
   "metadata": {},
   "outputs": [
    {
     "name": "stdout",
     "output_type": "stream",
     "text": [
      "+---------------+-----------+----------+-----------+----------+-------+-----------------+\n",
      "|_corrupt_record|petalLength|petalWidth|sepalLength|sepalWidth|species|doubleSepalLength|\n",
      "+---------------+-----------+----------+-----------+----------+-------+-----------------+\n",
      "|              [|       null|      null|       null|      null|   null|             null|\n",
      "|           null|        1.4|       0.2|        5.1|       3.5| setosa|             10.2|\n",
      "|           null|        1.4|       0.2|        4.9|       3.0| setosa|              9.8|\n",
      "|           null|        1.3|       0.2|        4.7|       3.2| setosa|              9.4|\n",
      "|           null|        1.5|       0.2|        4.6|       3.1| setosa|              9.2|\n",
      "|           null|        1.4|       0.2|        5.0|       3.6| setosa|             10.0|\n",
      "|           null|        1.7|       0.4|        5.4|       3.9| setosa|             10.8|\n",
      "|           null|        1.4|       0.3|        4.6|       3.4| setosa|              9.2|\n",
      "|           null|        1.5|       0.2|        5.0|       3.4| setosa|             10.0|\n",
      "|           null|        1.4|       0.2|        4.4|       2.9| setosa|              8.8|\n",
      "|           null|        1.5|       0.1|        4.9|       3.1| setosa|              9.8|\n",
      "|           null|        1.5|       0.2|        5.4|       3.7| setosa|             10.8|\n",
      "|           null|        1.6|       0.2|        4.8|       3.4| setosa|              9.6|\n",
      "|           null|        1.4|       0.1|        4.8|       3.0| setosa|              9.6|\n",
      "|           null|        1.1|       0.1|        4.3|       3.0| setosa|              8.6|\n",
      "|           null|        1.2|       0.2|        5.8|       4.0| setosa|             11.6|\n",
      "|           null|        1.5|       0.4|        5.7|       4.4| setosa|             11.4|\n",
      "|           null|        1.3|       0.4|        5.4|       3.9| setosa|             10.8|\n",
      "|           null|        1.4|       0.3|        5.1|       3.5| setosa|             10.2|\n",
      "|           null|        1.7|       0.3|        5.7|       3.8| setosa|             11.4|\n",
      "+---------------+-----------+----------+-----------+----------+-------+-----------------+\n",
      "only showing top 20 rows\n",
      "\n"
     ]
    }
   ],
   "source": [
    "df.withColumn('doubleSepalLength', df['sepalLength']*2).show()"
   ]
  },
  {
   "cell_type": "code",
   "execution_count": 14,
   "id": "5c34f6ff-9d1f-49c3-bb51-b2ba4f349ad3",
   "metadata": {},
   "outputs": [
    {
     "name": "stdout",
     "output_type": "stream",
     "text": [
      "+---------------+-----------+----------+-----------+----------+-------+\n",
      "|_corrupt_record|petalLength|petalWidth|sepalLength|sepalWidth|species|\n",
      "+---------------+-----------+----------+-----------+----------+-------+\n",
      "|           null|        1.4|       0.2|        5.1|       3.5| setosa|\n",
      "|           null|        1.7|       0.4|        5.4|       3.9| setosa|\n",
      "|           null|        1.5|       0.2|        5.4|       3.7| setosa|\n",
      "|           null|        1.2|       0.2|        5.8|       4.0| setosa|\n",
      "|           null|        1.5|       0.4|        5.7|       4.4| setosa|\n",
      "|           null|        1.3|       0.4|        5.4|       3.9| setosa|\n",
      "|           null|        1.4|       0.3|        5.1|       3.5| setosa|\n",
      "|           null|        1.7|       0.3|        5.7|       3.8| setosa|\n",
      "|           null|        1.5|       0.3|        5.1|       3.8| setosa|\n",
      "|           null|        1.7|       0.2|        5.4|       3.4| setosa|\n",
      "|           null|        1.5|       0.4|        5.1|       3.7| setosa|\n",
      "|           null|        1.7|       0.5|        5.1|       3.3| setosa|\n",
      "|           null|        1.5|       0.2|        5.2|       3.5| setosa|\n",
      "|           null|        1.4|       0.2|        5.2|       3.4| setosa|\n",
      "|           null|        1.5|       0.4|        5.4|       3.4| setosa|\n",
      "|           null|        1.5|       0.1|        5.2|       4.1| setosa|\n",
      "|           null|        1.4|       0.2|        5.5|       4.2| setosa|\n",
      "|           null|        1.3|       0.2|        5.5|       3.5| setosa|\n",
      "|           null|        1.5|       0.2|        5.1|       3.4| setosa|\n",
      "|           null|        1.9|       0.4|        5.1|       3.8| setosa|\n",
      "+---------------+-----------+----------+-----------+----------+-------+\n",
      "only showing top 20 rows\n",
      "\n"
     ]
    }
   ],
   "source": [
    "df.createOrReplaceTempView('iris')\n",
    "\n",
    "sepal_greater_5 = spark.sql(\"SELECT * from iris WHERE sepalLength > 5\")\n",
    "sepal_greater_5.show()"
   ]
  },
  {
   "cell_type": "code",
   "execution_count": 22,
   "id": "481bf99d-6ad6-48bf-922c-742163e03609",
   "metadata": {},
   "outputs": [
    {
     "name": "stdout",
     "output_type": "stream",
     "text": [
      "+-----------+-----------+\n",
      "|sepalLength|petalLength|\n",
      "+-----------+-----------+\n",
      "|        6.0|        5.1|\n",
      "|        6.3|        6.0|\n",
      "|        5.8|        5.1|\n",
      "|        7.1|        5.9|\n",
      "|        6.3|        5.6|\n",
      "|        6.5|        5.8|\n",
      "|        7.6|        6.6|\n",
      "|        7.3|        6.3|\n",
      "|        6.7|        5.8|\n",
      "|        7.2|        6.1|\n",
      "|        6.5|        5.1|\n",
      "|        6.4|        5.3|\n",
      "|        6.8|        5.5|\n",
      "|        5.8|        5.1|\n",
      "|        6.4|        5.3|\n",
      "|        6.5|        5.5|\n",
      "|        7.7|        6.7|\n",
      "|        7.7|        6.9|\n",
      "|        6.9|        5.7|\n",
      "|        7.7|        6.7|\n",
      "+-----------+-----------+\n",
      "only showing top 20 rows\n",
      "\n"
     ]
    }
   ],
   "source": [
    "df.filter(\"species == 'versicolor'\" and \"petalLength > 5\").select(['sepalLength', 'petalLength']).show()"
   ]
  },
  {
   "cell_type": "code",
   "execution_count": 31,
   "id": "b5b8a65e-8cc4-4962-9a27-3b34de007136",
   "metadata": {},
   "outputs": [
    {
     "name": "stdout",
     "output_type": "stream",
     "text": [
      "+---------------+-----------+----------+-----------+----------+-------+\n",
      "|_corrupt_record|petalLength|petalWidth|sepalLength|sepalWidth|species|\n",
      "+---------------+-----------+----------+-----------+----------+-------+\n",
      "|           null|        1.4|       0.2|        5.1|       3.5| setosa|\n",
      "|           null|        1.4|       0.2|        4.9|       3.0| setosa|\n",
      "|           null|        1.3|       0.2|        4.7|       3.2| setosa|\n",
      "|           null|        1.5|       0.2|        4.6|       3.1| setosa|\n",
      "|           null|        1.4|       0.2|        5.0|       3.6| setosa|\n",
      "|           null|        1.7|       0.4|        5.4|       3.9| setosa|\n",
      "|           null|        1.4|       0.3|        4.6|       3.4| setosa|\n",
      "|           null|        1.5|       0.2|        5.0|       3.4| setosa|\n",
      "|           null|        1.4|       0.2|        4.4|       2.9| setosa|\n",
      "|           null|        1.5|       0.1|        4.9|       3.1| setosa|\n",
      "|           null|        1.5|       0.2|        5.4|       3.7| setosa|\n",
      "|           null|        1.6|       0.2|        4.8|       3.4| setosa|\n",
      "|           null|        1.4|       0.1|        4.8|       3.0| setosa|\n",
      "|           null|        1.1|       0.1|        4.3|       3.0| setosa|\n",
      "|           null|        1.2|       0.2|        5.8|       4.0| setosa|\n",
      "|           null|        1.5|       0.4|        5.7|       4.4| setosa|\n",
      "|           null|        1.3|       0.4|        5.4|       3.9| setosa|\n",
      "|           null|        1.4|       0.3|        5.1|       3.5| setosa|\n",
      "|           null|        1.7|       0.3|        5.7|       3.8| setosa|\n",
      "|           null|        1.5|       0.3|        5.1|       3.8| setosa|\n",
      "+---------------+-----------+----------+-----------+----------+-------+\n",
      "only showing top 20 rows\n",
      "\n"
     ]
    }
   ],
   "source": [
    "df.filter((df['sepalLength'] < 10) & (df['petalLength'] < 10)).show()"
   ]
  },
  {
   "cell_type": "code",
   "execution_count": 41,
   "id": "ec588f6f-ebb6-428a-ac55-0e35d1939390",
   "metadata": {},
   "outputs": [
    {
     "data": {
      "text/plain": [
       "Row(_corrupt_record=None, petalLength=1.4, petalWidth=0.2, sepalLength=4.9, sepalWidth=3.0, species='setosa')"
      ]
     },
     "execution_count": 41,
     "metadata": {},
     "output_type": "execute_result"
    }
   ],
   "source": [
    "df.head(3)[2]"
   ]
  },
  {
   "cell_type": "code",
   "execution_count": 42,
   "id": "ce374a74-a55c-4cf2-a5e4-5c7bdf8dbadc",
   "metadata": {},
   "outputs": [
    {
     "data": {
      "text/plain": [
       "[Row(_corrupt_record=None, petalLength=1.6, petalWidth=0.2, sepalLength=4.8, sepalWidth=3.4, species='setosa'),\n",
       " Row(_corrupt_record=None, petalLength=1.4, petalWidth=0.1, sepalLength=4.8, sepalWidth=3.0, species='setosa'),\n",
       " Row(_corrupt_record=None, petalLength=1.9, petalWidth=0.2, sepalLength=4.8, sepalWidth=3.4, species='setosa'),\n",
       " Row(_corrupt_record=None, petalLength=1.6, petalWidth=0.2, sepalLength=4.8, sepalWidth=3.1, species='setosa'),\n",
       " Row(_corrupt_record=None, petalLength=1.4, petalWidth=0.3, sepalLength=4.8, sepalWidth=3.0, species='setosa')]"
      ]
     },
     "execution_count": 42,
     "metadata": {},
     "output_type": "execute_result"
    }
   ],
   "source": [
    "results = df.filter(df['sepalLength'] == 4.8).collect()\n",
    "results"
   ]
  },
  {
   "cell_type": "code",
   "execution_count": 44,
   "id": "eb9f3fcf-fe5a-409f-94b2-19a99da4b1ba",
   "metadata": {},
   "outputs": [],
   "source": [
    "row = results[3]"
   ]
  },
  {
   "cell_type": "code",
   "execution_count": 46,
   "id": "e5ff7a78-eb3f-4623-920e-0f82b240a698",
   "metadata": {},
   "outputs": [
    {
     "data": {
      "text/plain": [
       "1.6"
      ]
     },
     "execution_count": 46,
     "metadata": {},
     "output_type": "execute_result"
    }
   ],
   "source": [
    "row.asDict()['petalLength']"
   ]
  },
  {
   "cell_type": "code",
   "execution_count": 48,
   "id": "dea37f37-8abc-4baa-be2f-a968113cc948",
   "metadata": {},
   "outputs": [
    {
     "data": {
      "text/plain": [
       "<pyspark.sql.group.GroupedData at 0x11f1b3160>"
      ]
     },
     "execution_count": 48,
     "metadata": {},
     "output_type": "execute_result"
    }
   ],
   "source": [
    "df.groupBy('species')"
   ]
  },
  {
   "cell_type": "code",
   "execution_count": 51,
   "id": "7ed03e8e-09bd-4f6d-82fb-b2138645430d",
   "metadata": {},
   "outputs": [
    {
     "name": "stdout",
     "output_type": "stream",
     "text": [
      "+----------+-----+\n",
      "|   species|count|\n",
      "+----------+-----+\n",
      "| virginica|   50|\n",
      "|      null|    2|\n",
      "|versicolor|   50|\n",
      "|    setosa|   50|\n",
      "+----------+-----+\n",
      "\n"
     ]
    }
   ],
   "source": [
    "df.groupBy('species').count().show()"
   ]
  },
  {
   "cell_type": "code",
   "execution_count": 54,
   "id": "44e3bfe1-e335-4fb8-9ab4-5e413e8b20a2",
   "metadata": {},
   "outputs": [
    {
     "name": "stdout",
     "output_type": "stream",
     "text": [
      "+----------------+\n",
      "|max(sepalLength)|\n",
      "+----------------+\n",
      "|             7.9|\n",
      "+----------------+\n",
      "\n"
     ]
    }
   ],
   "source": [
    "df.agg({'sepalLength': 'max'}).show()"
   ]
  },
  {
   "cell_type": "code",
   "execution_count": 55,
   "id": "e2b49c78-6a12-49a2-83f8-f7e72f8f4072",
   "metadata": {},
   "outputs": [],
   "source": [
    "group_data = df.groupBy('species')"
   ]
  },
  {
   "cell_type": "code",
   "execution_count": 56,
   "id": "ed5bd469-bdcb-4b34-9576-6e04557896cd",
   "metadata": {},
   "outputs": [
    {
     "name": "stdout",
     "output_type": "stream",
     "text": [
      "+----------+----------------+\n",
      "|   species|max(sepalLength)|\n",
      "+----------+----------------+\n",
      "| virginica|             7.9|\n",
      "|      null|            null|\n",
      "|versicolor|             7.0|\n",
      "|    setosa|             5.8|\n",
      "+----------+----------------+\n",
      "\n"
     ]
    }
   ],
   "source": [
    "group_data.agg({'sepalLength':'max'}).show()"
   ]
  },
  {
   "cell_type": "code",
   "execution_count": 57,
   "id": "f8967000-3dda-4e18-954f-2e2e073f5e19",
   "metadata": {},
   "outputs": [],
   "source": [
    "from pyspark.sql.functions import countDistinct, avg, stddev"
   ]
  },
  {
   "cell_type": "code",
   "execution_count": 61,
   "id": "947a3f70-2cfa-472b-9f27-35f8ba2c9ede",
   "metadata": {},
   "outputs": [
    {
     "name": "stdout",
     "output_type": "stream",
     "text": [
      "+---------------------+\n",
      "|Distinct Sepal Length|\n",
      "+---------------------+\n",
      "|                   35|\n",
      "+---------------------+\n",
      "\n"
     ]
    }
   ],
   "source": [
    "df.select(countDistinct('sepalLength').alias('Distinct Sepal Length')).show()"
   ]
  },
  {
   "cell_type": "code",
   "execution_count": 64,
   "id": "cec2121d-4caf-4edc-af87-990361e6702f",
   "metadata": {},
   "outputs": [
    {
     "name": "stdout",
     "output_type": "stream",
     "text": [
      "+----------------+\n",
      "|Avg Sepal Length|\n",
      "+----------------+\n",
      "|            5.84|\n",
      "+----------------+\n",
      "\n"
     ]
    }
   ],
   "source": [
    "from pyspark.sql.functions import format_number\n",
    "\n",
    "avg_sepal = df.select(avg('sepalLength').alias('Average Sepal Length'))\n",
    "avg_sepal.select(format_number('Average Sepal Length',2).alias('Avg Sepal Length')).show()                      "
   ]
  },
  {
   "cell_type": "code",
   "execution_count": 65,
   "id": "3f2d1da0-a3e8-4930-a8e7-9714896da316",
   "metadata": {},
   "outputs": [
    {
     "name": "stdout",
     "output_type": "stream",
     "text": [
      "+---------------+-----------+----------+-----------+----------+-------+\n",
      "|_corrupt_record|petalLength|petalWidth|sepalLength|sepalWidth|species|\n",
      "+---------------+-----------+----------+-----------+----------+-------+\n",
      "|              [|       null|      null|       null|      null|   null|\n",
      "|              ]|       null|      null|       null|      null|   null|\n",
      "|           null|        1.0|       0.2|        4.6|       3.6| setosa|\n",
      "|           null|        1.1|       0.1|        4.3|       3.0| setosa|\n",
      "|           null|        1.2|       0.2|        5.8|       4.0| setosa|\n",
      "|           null|        1.2|       0.2|        5.0|       3.2| setosa|\n",
      "|           null|        1.3|       0.2|        4.7|       3.2| setosa|\n",
      "|           null|        1.3|       0.4|        5.4|       3.9| setosa|\n",
      "|           null|        1.3|       0.2|        4.4|       3.2| setosa|\n",
      "|           null|        1.3|       0.2|        5.5|       3.5| setosa|\n",
      "|           null|        1.3|       0.2|        4.4|       3.0| setosa|\n",
      "|           null|        1.3|       0.3|        5.0|       3.5| setosa|\n",
      "|           null|        1.3|       0.3|        4.5|       2.3| setosa|\n",
      "|           null|        1.4|       0.1|        4.9|       3.6| setosa|\n",
      "|           null|        1.4|       0.2|        4.4|       2.9| setosa|\n",
      "|           null|        1.4|       0.2|        5.1|       3.5| setosa|\n",
      "|           null|        1.4|       0.2|        5.2|       3.4| setosa|\n",
      "|           null|        1.4|       0.2|        5.0|       3.6| setosa|\n",
      "|           null|        1.4|       0.1|        4.8|       3.0| setosa|\n",
      "|           null|        1.4|       0.3|        4.6|       3.4| setosa|\n",
      "+---------------+-----------+----------+-----------+----------+-------+\n",
      "only showing top 20 rows\n",
      "\n"
     ]
    }
   ],
   "source": [
    "df.orderBy('petalLength').show()"
   ]
  },
  {
   "cell_type": "code",
   "execution_count": 68,
   "id": "62e23a4d-bba9-442f-b97d-d4d663553ccf",
   "metadata": {},
   "outputs": [
    {
     "name": "stdout",
     "output_type": "stream",
     "text": [
      "+---------------+-----------+----------+-----------+----------+---------+\n",
      "|_corrupt_record|petalLength|petalWidth|sepalLength|sepalWidth|  species|\n",
      "+---------------+-----------+----------+-----------+----------+---------+\n",
      "|           null|        6.9|       2.3|        7.7|       2.6|virginica|\n",
      "|           null|        6.7|       2.2|        7.7|       3.8|virginica|\n",
      "|           null|        6.7|       2.0|        7.7|       2.8|virginica|\n",
      "|           null|        6.6|       2.1|        7.6|       3.0|virginica|\n",
      "|           null|        6.4|       2.0|        7.9|       3.8|virginica|\n",
      "|           null|        6.3|       1.8|        7.3|       2.9|virginica|\n",
      "|           null|        6.1|       2.5|        7.2|       3.6|virginica|\n",
      "|           null|        6.1|       1.9|        7.4|       2.8|virginica|\n",
      "|           null|        6.1|       2.3|        7.7|       3.0|virginica|\n",
      "|           null|        6.0|       2.5|        6.3|       3.3|virginica|\n",
      "|           null|        6.0|       1.8|        7.2|       3.2|virginica|\n",
      "|           null|        5.9|       2.1|        7.1|       3.0|virginica|\n",
      "|           null|        5.9|       2.3|        6.8|       3.2|virginica|\n",
      "|           null|        5.8|       2.2|        6.5|       3.0|virginica|\n",
      "|           null|        5.8|       1.8|        6.7|       2.5|virginica|\n",
      "|           null|        5.8|       1.6|        7.2|       3.0|virginica|\n",
      "|           null|        5.7|       2.3|        6.9|       3.2|virginica|\n",
      "|           null|        5.7|       2.1|        6.7|       3.3|virginica|\n",
      "|           null|        5.7|       2.5|        6.7|       3.3|virginica|\n",
      "|           null|        5.6|       2.4|        6.7|       3.1|virginica|\n",
      "+---------------+-----------+----------+-----------+----------+---------+\n",
      "only showing top 20 rows\n",
      "\n"
     ]
    }
   ],
   "source": [
    "df.orderBy(df['petalLength'].desc()).show()"
   ]
  },
  {
   "cell_type": "code",
   "execution_count": null,
   "id": "c7b876da-586c-4082-bc02-881aef4fd1c0",
   "metadata": {},
   "outputs": [],
   "source": []
  }
 ],
 "metadata": {
  "kernelspec": {
   "display_name": "Python 3 (ipykernel)",
   "language": "python",
   "name": "python3"
  },
  "language_info": {
   "codemirror_mode": {
    "name": "ipython",
    "version": 3
   },
   "file_extension": ".py",
   "mimetype": "text/x-python",
   "name": "python",
   "nbconvert_exporter": "python",
   "pygments_lexer": "ipython3",
   "version": "3.8.16"
  }
 },
 "nbformat": 4,
 "nbformat_minor": 5
}
